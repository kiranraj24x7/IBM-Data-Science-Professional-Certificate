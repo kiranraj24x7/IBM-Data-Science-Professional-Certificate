{
 "cells": [
  {
   "cell_type": "markdown",
   "id": "9785497a-a262-4147-8920-40d7c413c029",
   "metadata": {},
   "source": [
    "# Data Science Tools and Ecosystem"
   ]
  },
  {
   "cell_type": "markdown",
   "id": "4d16be92-81d6-48d0-a545-e5714eea9a2d",
   "metadata": {},
   "source": [
    "In this notebook, Data Science Tools and Ecosystem are summarized."
   ]
  },
  {
   "cell_type": "markdown",
   "id": "846a68f7-c48c-41ef-8595-49ab4f5c7adc",
   "metadata": {
    "tags": []
   },
   "source": [
    "**Objectives:**\n",
    "- List popular languages for Data Science\n",
    "- List commonly used libraries used by Data Scientists\n",
    "- Examples of evaluating arithmetic expressions in Python"
   ]
  },
  {
   "cell_type": "markdown",
   "id": "f8cd868b-4ff3-471f-83d6-cffe862f6ebc",
   "metadata": {},
   "source": [
    "Some of the popular languages that Data Scientists use are:\n",
    "1. Python\n",
    "2. SQL \n",
    "3. R"
   ]
  },
  {
   "cell_type": "markdown",
   "id": "3f32b5a3-a5ea-4c2a-93e4-94b96f318691",
   "metadata": {
    "tags": []
   },
   "source": [
    "Some of the commonly used libraries used by Data Scientists include:\n",
    "1. Pandas\n",
    "2. Numpy\n",
    "3. Matplotlib\n",
    "4. Seaborn"
   ]
  },
  {
   "cell_type": "markdown",
   "id": "e032bfd0-df7c-4628-83ad-8886e82f1a70",
   "metadata": {},
   "source": [
    "|Data Science Tools               |\n",
    "| ------------------------------- |\n",
    "| Jupyter Notebook/Jupyter Lab    |\n",
    "| Apache Zeppelin                 |\n",
    "| RStudio                         |"
   ]
  },
  {
   "cell_type": "markdown",
   "id": "6c87403a-214a-403d-a708-786cd0acc9ca",
   "metadata": {},
   "source": [
    "### Below are a few examples of evaluating arithmetic expressions in Python"
   ]
  },
  {
   "cell_type": "code",
   "execution_count": 3,
   "id": "ef59a801-7771-4382-9868-54f029bb8453",
   "metadata": {
    "tags": []
   },
   "outputs": [
    {
     "data": {
      "text/plain": [
       "17"
      ]
     },
     "execution_count": 3,
     "metadata": {},
     "output_type": "execute_result"
    }
   ],
   "source": [
    "#This a simple arithmetic expression to mutiply then add integers\n",
    "(3*4)+5"
   ]
  },
  {
   "cell_type": "code",
   "execution_count": 4,
   "id": "40573430-14dd-4137-8e42-c6e30b535f1a",
   "metadata": {
    "tags": []
   },
   "outputs": [
    {
     "data": {
      "text/plain": [
       "3.3333333333333335"
      ]
     },
     "execution_count": 4,
     "metadata": {},
     "output_type": "execute_result"
    }
   ],
   "source": [
    "#This will convert 200 minutes to hours by diving by 60\n",
    "\n",
    "time_minute = 200\n",
    "time_hours  = 200/60\n",
    "time_hours"
   ]
  },
  {
   "cell_type": "markdown",
   "id": "1c14878e-e150-48a5-b7ee-7627ed0ef9b1",
   "metadata": {},
   "source": [
    "## Author\n",
    "Kiran Raj Krishnakumar"
   ]
  },
  {
   "cell_type": "code",
   "execution_count": null,
   "id": "34f128c6-6cad-4f32-96bc-3563130d13b4",
   "metadata": {},
   "outputs": [],
   "source": []
  }
 ],
 "metadata": {
  "kernelspec": {
   "display_name": "Python",
   "language": "python",
   "name": "conda-env-python-py"
  },
  "language_info": {
   "codemirror_mode": {
    "name": "ipython",
    "version": 3
   },
   "file_extension": ".py",
   "mimetype": "text/x-python",
   "name": "python",
   "nbconvert_exporter": "python",
   "pygments_lexer": "ipython3",
   "version": "3.7.12"
  }
 },
 "nbformat": 4,
 "nbformat_minor": 5
}
